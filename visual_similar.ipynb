{
 "cells": [
  {
   "cell_type": "code",
   "execution_count": 305,
   "id": "b7a98b1f",
   "metadata": {},
   "outputs": [],
   "source": [
    "from pdf2image import convert_from_path\n",
    "import PyPDF2\n",
    "import os\n",
    "import shutil\n",
    "import pandas as pd\n",
    "import cv2\n",
    "import tensorflow as tf\n",
    "import numpy as np\n",
    "import matplotlib.pyplot as plt\n",
    "from sklearn.cluster import KMeans, DBSCAN\n",
    "from sklearn.metrics import silhouette_score, silhouette_samples\n",
    "from sklearn.preprocessing import MinMaxScaler\n",
    "from sklearn.decomposition import PCA\n",
    "from kneed import KneeLocator\n",
    "import time\n",
    "from sklearn.metrics import adjusted_rand_score"
   ]
  },
  {
   "cell_type": "code",
   "execution_count": 288,
   "id": "6954c693",
   "metadata": {},
   "outputs": [],
   "source": [
    "PATH = \"./banks/\"\n",
    "IMAGE_PATH = \"./images/\""
   ]
  },
  {
   "cell_type": "code",
   "execution_count": 289,
   "id": "e558a54f",
   "metadata": {},
   "outputs": [
    {
     "name": "stdout",
     "output_type": "stream",
     "text": [
      "PDF to Image conversion complete\n"
     ]
    }
   ],
   "source": [
    "try:\n",
    "    os.mkdir('./images')\n",
    "except:\n",
    "    shutil.rmtree('./images')\n",
    "    os.mkdir('./images')\n",
    "\n",
    "for dir in os.listdir(PATH):\n",
    "    inputpath = PATH+dir\n",
    "    pdfFileObj = open(inputpath, 'rb')\n",
    "    pdfReader = PyPDF2.PdfFileReader(pdfFileObj)\n",
    "    numpages = pdfReader.numPages\n",
    "    for i in range(1,numpages+1):\n",
    "        pages = convert_from_path(inputpath, first_page=i, last_page=i+1)\n",
    "        pages[0].save('./images/'+str(i)+'.jpg', 'JPEG')\n",
    "print(\"PDF to Image conversion complete\")  "
   ]
  },
  {
   "cell_type": "code",
   "execution_count": 290,
   "id": "22b80ddb",
   "metadata": {},
   "outputs": [],
   "source": [
    "resnet= tf.keras.applications.ResNet50(\n",
    "      include_top=False,\n",
    "      weights=\"imagenet\",\n",
    "      input_tensor=None,\n",
    "      input_shape=(520,520,3),\n",
    "      pooling=None)\n",
    "inp = resnet.layers[0].input\n",
    "out = tf.keras.layers.Flatten()(resnet.output)\n",
    "modelr = tf.keras.Model(inputs=inp, outputs=out)"
   ]
  },
  {
   "cell_type": "code",
   "execution_count": 291,
   "id": "4e0d92ca",
   "metadata": {},
   "outputs": [
    {
     "name": "stdout",
     "output_type": "stream",
     "text": [
      "embeddings shape -->  (538, 591872)\n",
      "--- 82.34675550460815 seconds ---\n"
     ]
    }
   ],
   "source": [
    "start_time = time.time()\n",
    "\n",
    "df = []\n",
    "names = []\n",
    "for image in os.listdir(IMAGE_PATH):\n",
    "    names.append(image.split('.')[0])\n",
    "    img = cv2.imread(IMAGE_PATH+image)\n",
    "    img = cv2.resize(img, (520,520))\n",
    "    embeddings = modelr.predict(img[tf.newaxis,...])\n",
    "    df.append(embeddings[0].tolist())\n",
    "print(\"embeddings shape --> \", np.shape(df))\n",
    "print(\"--- %s seconds ---\" % (time.time() - start_time))"
   ]
  },
  {
   "cell_type": "code",
   "execution_count": 292,
   "id": "eddbd15f",
   "metadata": {},
   "outputs": [
    {
     "name": "stdout",
     "output_type": "stream",
     "text": [
      "Scaling Done\n",
      "--- 130.6787130832672 seconds ---\n"
     ]
    }
   ],
   "source": [
    "################## Feature Scaling #########################\n",
    "\n",
    "scaler = MinMaxScaler()\n",
    "df = scaler.fit_transform(df)\n",
    "print(\"Scaling Done\")\n",
    "print(\"--- %s seconds ---\" % (time.time() - start_time))"
   ]
  },
  {
   "cell_type": "code",
   "execution_count": 293,
   "id": "8edc900d",
   "metadata": {},
   "outputs": [
    {
     "data": {
      "image/png": "[encoded data removed]",
      "text/plain": [
       "<Figure size 1080x432 with 1 Axes>"
      ]
     },
     "metadata": {
      "needs_background": "light"
     },
     "output_type": "display_data"
    },
    {
     "name": "stdout",
     "output_type": "stream",
     "text": [
      "--- 193.94474148750305 seconds ---\n"
     ]
    }
   ],
   "source": [
    "################## Selecting optimal no. of Pricipal components ###################\n",
    "\n",
    "pca = PCA()\n",
    "pca_data = pca.fit_transform(np.array(df))\n",
    "per_var = np.round(pca.explained_variance_ratio_*100, decimals=2)\n",
    "lables = range(1, len(per_var)+1)\n",
    "plt.figure(figsize=(15,6))\n",
    "plt.xlabel('no. of principal components')\n",
    "plt.ylabel('percentage of explained variance')\n",
    "plt.title('scree plot')\n",
    "plt.plot(lables, per_var, '-*')\n",
    "kl = KneeLocator(lables, per_var, curve=\"convex\", direction=\"decreasing\")\n",
    "plt.plot(np.full(len(per_var),kl.elbow).tolist(), per_var, '--')\n",
    "plt.annotate('optimal principal component -> '+str(kl.elbow), (kl.elbow+5, 0))\n",
    "plt.savefig('./scree_plot.png', dpi=500)\n",
    "plt.show()\n",
    "print(\"--- %s seconds ---\" % (time.time() - start_time))"
   ]
  },
  {
   "cell_type": "code",
   "execution_count": 294,
   "id": "4a89e196",
   "metadata": {},
   "outputs": [
    {
     "name": "stdout",
     "output_type": "stream",
     "text": [
      "Optimal PCA component -->  34\n",
      "PCA component shape -->  (538, 34)\n",
      "--- 220.85121750831604 seconds ---\n"
     ]
    }
   ],
   "source": [
    "print(\"Optimal PCA component --> \", kl.elbow)\n",
    "pca = PCA(kl.elbow)\n",
    "#pca = PCA(3)\n",
    "df = pca.fit_transform(np.array(df))\n",
    "print(\"PCA component shape --> \", np.shape(df))\n",
    "print(\"--- %s seconds ---\" % (time.time() - start_time))"
   ]
  },
  {
   "cell_type": "code",
   "execution_count": 295,
   "id": "f5ef135e",
   "metadata": {},
   "outputs": [],
   "source": [
    "######### Giving page no. as a feature and normalinzing it with total no. of pages ####################### \n",
    "\n",
    "data = []\n",
    "for i,embeds in enumerate(df):\n",
    "    embed = embeds.tolist()\n",
    "    embed.append(float((i+1)//len(df)))\n",
    "    data.append(embed)"
   ]
  },
  {
   "cell_type": "code",
   "execution_count": 296,
   "id": "bde56853",
   "metadata": {},
   "outputs": [
    {
     "name": "stdout",
     "output_type": "stream",
     "text": [
      "--- 531.5042448043823 seconds ---\n"
     ]
    }
   ],
   "source": [
    "##################### Selecting optimal no. of clusters using WCSS #######################\n",
    "\n",
    "#score = []\n",
    "#neg_silhouette_samples = []\n",
    "df = data\n",
    "inertia = []\n",
    "K = range(2,len(names)//2)\n",
    "for k in K:\n",
    "    km = KMeans(n_clusters=k, init='k-means++')\n",
    "    km = km.fit(df)\n",
    "    #silhouette = silhouette_score(df, km.labels_, metric='euclidean')\n",
    "    #score.append(silhouette)\n",
    "    #sample_silhouette_values = silhouette_samples(df, km.labels_)\n",
    "    #neg_silhouette_samples.append(len(np.extract(sample_silhouette_values<0, sample_silhouette_values)))\n",
    "    inertia.append(km.inertia_)\n",
    "print(\"--- %s seconds ---\" % (time.time() - start_time))"
   ]
  },
  {
   "cell_type": "code",
   "execution_count": 297,
   "id": "00919f09",
   "metadata": {},
   "outputs": [
    {
     "data": {
      "image/png": "[encoded data removed]",
      "text/plain": [
       "<Figure size 1080x432 with 1 Axes>"
      ]
     },
     "metadata": {
      "needs_background": "light"
     },
     "output_type": "display_data"
    },
    {
     "name": "stdout",
     "output_type": "stream",
     "text": [
      "WCSS plot generated\n",
      "--- 572.560469865799 seconds ---\n"
     ]
    }
   ],
   "source": [
    "kl = KneeLocator(K, inertia, curve=\"convex\", direction=\"decreasing\")\n",
    "plt.figure(figsize=(15,6))\n",
    "plt.xlabel('k -->')\n",
    "plt.ylabel('Sum_of_squared_distances --->')\n",
    "plt.title('Elbow Method For Optimal k')\n",
    "plt.plot(K, inertia, 'bo-')\n",
    "plt.plot(np.full(len(inertia),kl.elbow).tolist(), inertia, 'r--')\n",
    "plt.annotate('optimal K -> '+str(kl.elbow), (kl.elbow+5, 0))\n",
    "plt.savefig('./wcss_plot.png', dpi=500)\n",
    "plt.show()\n",
    "print(\"WCSS plot generated\")\n",
    "print(\"--- %s seconds ---\" % (time.time() - start_time))"
   ]
  },
  {
   "cell_type": "code",
   "execution_count": 12,
   "id": "bb0694b8",
   "metadata": {},
   "outputs": [
    {
     "data": {
      "text/plain": [
       "\"plt.figure(figsize=(15,6))\\nplt.xlabel('k')\\nplt.ylabel('silhouette_score')\\nplt.title('silhouette_plot')\\nplt.plot(K, score, 'go-')\\nplt.plot(K,np.full(len(K),max(score)), 'r--')\\nplt.plot(np.full(len(K),K[np.argmax(score)]), score,  'r--')\\nplt.annotate('optimal K -> '+str(K[np.argmax(score)]), (K[np.argmax(score)]-5, max(score)+0.005))\\nplt.savefig('./silhouette_plot.png', dpi=500)\\nplt.show()\""
      ]
     },
     "execution_count": 12,
     "metadata": {},
     "output_type": "execute_result"
    }
   ],
   "source": [
    "'''plt.figure(figsize=(15,6))\n",
    "plt.xlabel('k')\n",
    "plt.ylabel('silhouette_score')\n",
    "plt.title('silhouette_plot')\n",
    "plt.plot(K, score, 'go-')\n",
    "plt.plot(K,np.full(len(K),max(score)), 'r--')\n",
    "plt.plot(np.full(len(K),K[np.argmax(score)]), score,  'r--')\n",
    "plt.annotate('optimal K -> '+str(K[np.argmax(score)]), (K[np.argmax(score)]-5, max(score)+0.005))\n",
    "plt.savefig('./silhouette_plot.png', dpi=500)\n",
    "plt.show()'''"
   ]
  },
  {
   "cell_type": "code",
   "execution_count": 299,
   "id": "211947f0",
   "metadata": {},
   "outputs": [
    {
     "data": {
      "text/html": [
       "<div>\n",
       "<style scoped>\n",
       "    .dataframe tbody tr th:only-of-type {\n",
       "        vertical-align: middle;\n",
       "    }\n",
       "\n",
       "    .dataframe tbody tr th {\n",
       "        vertical-align: top;\n",
       "    }\n",
       "\n",
       "    .dataframe thead th {\n",
       "        text-align: right;\n",
       "    }\n",
       "</style>\n",
       "<table border=\"1\" class=\"dataframe\">\n",
       "  <thead>\n",
       "    <tr style=\"text-align: right;\">\n",
       "      <th></th>\n",
       "      <th>name</th>\n",
       "      <th>labels</th>\n",
       "    </tr>\n",
       "  </thead>\n",
       "  <tbody>\n",
       "    <tr>\n",
       "      <th>0</th>\n",
       "      <td>227</td>\n",
       "      <td>0</td>\n",
       "    </tr>\n",
       "    <tr>\n",
       "      <th>1</th>\n",
       "      <td>499</td>\n",
       "      <td>7</td>\n",
       "    </tr>\n",
       "    <tr>\n",
       "      <th>2</th>\n",
       "      <td>130</td>\n",
       "      <td>2</td>\n",
       "    </tr>\n",
       "    <tr>\n",
       "      <th>3</th>\n",
       "      <td>210</td>\n",
       "      <td>5</td>\n",
       "    </tr>\n",
       "    <tr>\n",
       "      <th>4</th>\n",
       "      <td>181</td>\n",
       "      <td>1</td>\n",
       "    </tr>\n",
       "  </tbody>\n",
       "</table>\n",
       "</div>"
      ],
      "text/plain": [
       "  name  labels\n",
       "0  227       0\n",
       "1  499       7\n",
       "2  130       2\n",
       "3  210       5\n",
       "4  181       1"
      ]
     },
     "execution_count": 299,
     "metadata": {},
     "output_type": "execute_result"
    }
   ],
   "source": [
    "################## clustering using optimal K values ################################\n",
    "\n",
    "match = pd.DataFrame(columns=['name', 'labels'])\n",
    "#km = KMeans(n_clusters=K[np.argmax(score)], init='k-means++', random_state=10)\n",
    "km = KMeans(n_clusters=kl.elbow, init='k-means++', random_state=10)\n",
    "km = km.fit(df)\n",
    "match['labels'] = km.labels_.tolist()\n",
    "match['name'] = names\n",
    "match.head()"
   ]
  },
  {
   "cell_type": "code",
   "execution_count": 300,
   "id": "d118669b",
   "metadata": {},
   "outputs": [],
   "source": [
    "match.name = pd.to_numeric(match['name'])\n",
    "match.labels = pd.to_numeric(match['labels'])\n",
    "pages = []\n",
    "for i in np.sort(match.labels.unique()):\n",
    "    pages.append(list(np.sort(match['name'][match.labels == i].values)))\n",
    "pagelabels = pd.DataFrame(columns=['groups'])\n",
    "pagelabels['groups'] = pages"
   ]
  },
  {
   "cell_type": "code",
   "execution_count": 301,
   "id": "f713a16a",
   "metadata": {},
   "outputs": [],
   "source": [
    "newgroups = []\n",
    "thresh = 3\n",
    "for group in pagelabels.groups:\n",
    "    diff = []\n",
    "    for i in range(len(group)-1):\n",
    "        diff.append(group[i+1]-group[i])\n",
    "    temp = []\n",
    "    flag = 0\n",
    "    sequenceflag = 0\n",
    "    for index,i in enumerate(diff):\n",
    "        if i==1:\n",
    "            temp.append(group[index])\n",
    "            flag=1\n",
    "            sequenceflag = 1\n",
    "        else:\n",
    "            if i<thresh:\n",
    "                temp.append(group[index])\n",
    "                flag=1\n",
    "                sequenceflag = 1\n",
    "                for j in range(1,i):\n",
    "                    temp.append(group[index]+j)\n",
    "            else:\n",
    "                if(sequenceflag==1):\n",
    "                    temp.append(group[index])\n",
    "                    sequenceflag=0\n",
    "        if((index == len(diff)-1)&(diff[len(diff)-1]<thresh)):\n",
    "            temp.append(group[len(diff)])\n",
    "    \n",
    "    if flag==1:\n",
    "        clusters = []\n",
    "        start=0\n",
    "        for index, no in enumerate(temp):\n",
    "            if(index<len(temp)-1):\n",
    "                if((temp[index+1]-no)!=1):\n",
    "                    clusters.append(temp[start:index+1])  \n",
    "                    start = index+1\n",
    "            if index==len(temp)-1:\n",
    "                clusters.append(temp[start:index+1])\n",
    "        newgroups.append(clusters)"
   ]
  },
  {
   "cell_type": "code",
   "execution_count": 302,
   "id": "42f71c2e",
   "metadata": {},
   "outputs": [],
   "source": [
    "i=0\n",
    "while(i<len(newgroups)):\n",
    "    #print(i)\n",
    "    flag=0\n",
    "    groups=newgroups[i]\n",
    "    if i<len(newgroups)-1:\n",
    "        for k,group in enumerate(groups):\n",
    "            for j in range(i+1,len(newgroups)):\n",
    "                comparegroups = newgroups[j]\n",
    "                temp = []\n",
    "                for l,comparegroup in enumerate(comparegroups):\n",
    "                    if(len(set(group)&set(comparegroup))>0):\n",
    "                        temp.append(list(set((group+comparegroup))))\n",
    "                        newgroups[i][k].clear()\n",
    "                        newgroups[j][l].clear()\n",
    "                        flag=1\n",
    "                        break\n",
    "                if flag==1:\n",
    "                    break\n",
    "            if flag==1:\n",
    "                i=0\n",
    "                temp = np.sort(np.array(temp))\n",
    "                newgroups = newgroups+temp[:,np.newaxis].tolist()\n",
    "                break\n",
    "    if flag!=1:\n",
    "        i=i+1\n",
    "\n",
    "clusters = []                        \n",
    "for groups in newgroups:\n",
    "    temp = []\n",
    "    for group in groups:\n",
    "        if len(group)!=0:\n",
    "            temp.append(group)\n",
    "    if len(temp)!=0:\n",
    "        clusters.append(temp)"
   ]
  },
  {
   "cell_type": "code",
   "execution_count": 303,
   "id": "0dfd6d21",
   "metadata": {},
   "outputs": [
    {
     "data": {
      "text/html": [
       "<div>\n",
       "<style scoped>\n",
       "    .dataframe tbody tr th:only-of-type {\n",
       "        vertical-align: middle;\n",
       "    }\n",
       "\n",
       "    .dataframe tbody tr th {\n",
       "        vertical-align: top;\n",
       "    }\n",
       "\n",
       "    .dataframe thead th {\n",
       "        text-align: right;\n",
       "    }\n",
       "</style>\n",
       "<table border=\"1\" class=\"dataframe\">\n",
       "  <thead>\n",
       "    <tr style=\"text-align: right;\">\n",
       "      <th></th>\n",
       "      <th>groups</th>\n",
       "    </tr>\n",
       "  </thead>\n",
       "  <tbody>\n",
       "    <tr>\n",
       "      <th>0</th>\n",
       "      <td>[[5, 6, 7], [10, 11, 12, 13, 14], [17, 18, 19,...</td>\n",
       "    </tr>\n",
       "    <tr>\n",
       "      <th>1</th>\n",
       "      <td>[[354, 355], [481, 482, 483, 484, 485, 486, 48...</td>\n",
       "    </tr>\n",
       "    <tr>\n",
       "      <th>2</th>\n",
       "      <td>[[31, 32], [49, 50], [86, 87, 88, 89], [101, 1...</td>\n",
       "    </tr>\n",
       "    <tr>\n",
       "      <th>3</th>\n",
       "      <td>[[105, 106, 107, 108, 109], [195, 196, 197, 19...</td>\n",
       "    </tr>\n",
       "    <tr>\n",
       "      <th>4</th>\n",
       "      <td>[[3, 4], [8, 9], [35, 36], [245, 246, 247, 248...</td>\n",
       "    </tr>\n",
       "    <tr>\n",
       "      <th>5</th>\n",
       "      <td>[[236, 237, 238, 239, 240, 241], [294, 295, 29...</td>\n",
       "    </tr>\n",
       "    <tr>\n",
       "      <th>6</th>\n",
       "      <td>[[283, 284, 285, 286, 287, 288, 289, 290, 291,...</td>\n",
       "    </tr>\n",
       "    <tr>\n",
       "      <th>7</th>\n",
       "      <td>[[67, 68, 69, 70, 71, 72, 73, 74, 75, 76, 77, ...</td>\n",
       "    </tr>\n",
       "    <tr>\n",
       "      <th>8</th>\n",
       "      <td>[[15, 16], [136, 137, 138, 139, 140], [154, 15...</td>\n",
       "    </tr>\n",
       "    <tr>\n",
       "      <th>9</th>\n",
       "      <td>[[399, 400, 401, 402, 403, 404, 405, 406, 407,...</td>\n",
       "    </tr>\n",
       "    <tr>\n",
       "      <th>10</th>\n",
       "      <td>[[250, 251], [364, 365, 366, 367, 368, 369, 37...</td>\n",
       "    </tr>\n",
       "    <tr>\n",
       "      <th>11</th>\n",
       "      <td>[[127, 128, 129], [141, 142, 143, 144, 145, 14...</td>\n",
       "    </tr>\n",
       "    <tr>\n",
       "      <th>12</th>\n",
       "      <td>[[243, 244]]</td>\n",
       "    </tr>\n",
       "    <tr>\n",
       "      <th>13</th>\n",
       "      <td>[[267, 268]]</td>\n",
       "    </tr>\n",
       "    <tr>\n",
       "      <th>14</th>\n",
       "      <td>[[148, 149, 150, 151, 152]]</td>\n",
       "    </tr>\n",
       "    <tr>\n",
       "      <th>15</th>\n",
       "      <td>[[207, 208, 209]]</td>\n",
       "    </tr>\n",
       "    <tr>\n",
       "      <th>16</th>\n",
       "      <td>[[121, 122, 123], [362, 363], [512, 513, 514]]</td>\n",
       "    </tr>\n",
       "    <tr>\n",
       "      <th>17</th>\n",
       "      <td>[[113, 114, 115, 116, 117, 118, 119, 120], [16...</td>\n",
       "    </tr>\n",
       "    <tr>\n",
       "      <th>18</th>\n",
       "      <td>[[91, 92, 93, 94, 95]]</td>\n",
       "    </tr>\n",
       "    <tr>\n",
       "      <th>19</th>\n",
       "      <td>[[169, 170, 171, 172, 173, 174, 175, 176, 177,...</td>\n",
       "    </tr>\n",
       "    <tr>\n",
       "      <th>20</th>\n",
       "      <td>[[341, 342, 343, 344, 345, 346]]</td>\n",
       "    </tr>\n",
       "    <tr>\n",
       "      <th>21</th>\n",
       "      <td>[[417, 418, 419, 420, 421, 422, 423]]</td>\n",
       "    </tr>\n",
       "    <tr>\n",
       "      <th>22</th>\n",
       "      <td>[[59, 60, 61, 62, 63, 64]]</td>\n",
       "    </tr>\n",
       "    <tr>\n",
       "      <th>23</th>\n",
       "      <td>[[467, 468, 469, 470, 471, 472, 473, 474, 475,...</td>\n",
       "    </tr>\n",
       "  </tbody>\n",
       "</table>\n",
       "</div>"
      ],
      "text/plain": [
       "                                               groups\n",
       "0   [[5, 6, 7], [10, 11, 12, 13, 14], [17, 18, 19,...\n",
       "1   [[354, 355], [481, 482, 483, 484, 485, 486, 48...\n",
       "2   [[31, 32], [49, 50], [86, 87, 88, 89], [101, 1...\n",
       "3   [[105, 106, 107, 108, 109], [195, 196, 197, 19...\n",
       "4   [[3, 4], [8, 9], [35, 36], [245, 246, 247, 248...\n",
       "5   [[236, 237, 238, 239, 240, 241], [294, 295, 29...\n",
       "6   [[283, 284, 285, 286, 287, 288, 289, 290, 291,...\n",
       "7   [[67, 68, 69, 70, 71, 72, 73, 74, 75, 76, 77, ...\n",
       "8   [[15, 16], [136, 137, 138, 139, 140], [154, 15...\n",
       "9   [[399, 400, 401, 402, 403, 404, 405, 406, 407,...\n",
       "10  [[250, 251], [364, 365, 366, 367, 368, 369, 37...\n",
       "11  [[127, 128, 129], [141, 142, 143, 144, 145, 14...\n",
       "12                                       [[243, 244]]\n",
       "13                                       [[267, 268]]\n",
       "14                        [[148, 149, 150, 151, 152]]\n",
       "15                                  [[207, 208, 209]]\n",
       "16     [[121, 122, 123], [362, 363], [512, 513, 514]]\n",
       "17  [[113, 114, 115, 116, 117, 118, 119, 120], [16...\n",
       "18                             [[91, 92, 93, 94, 95]]\n",
       "19  [[169, 170, 171, 172, 173, 174, 175, 176, 177,...\n",
       "20                   [[341, 342, 343, 344, 345, 346]]\n",
       "21              [[417, 418, 419, 420, 421, 422, 423]]\n",
       "22                         [[59, 60, 61, 62, 63, 64]]\n",
       "23  [[467, 468, 469, 470, 471, 472, 473, 474, 475,..."
      ]
     },
     "execution_count": 303,
     "metadata": {},
     "output_type": "execute_result"
    }
   ],
   "source": [
    "finalclusters = pd.DataFrame(columns=['groups'])\n",
    "finalclusters.groups = clusters\n",
    "finalclusters"
   ]
  },
  {
   "cell_type": "code",
   "execution_count": 304,
   "id": "b6cbddeb",
   "metadata": {},
   "outputs": [],
   "source": [
    "for i,groups in enumerate(clusters):\n",
    "    if i<len(clusters)-1:\n",
    "        for k,group in enumerate(groups):\n",
    "            for j in range(i+1,len(clusters)):\n",
    "                comparegroups = clusters[j]\n",
    "                for l,comparegroup in enumerate(comparegroups):\n",
    "                    if(len(set(group)&set(comparegroup))>0):\n",
    "                        print(True)\n",
    "                        print(i,' ',k,'--',j,' ',l)\n",
    "                        print(group,'---', comparegroup)"
   ]
  },
  {
   "cell_type": "code",
   "execution_count": 283,
   "id": "3f47f1e3",
   "metadata": {},
   "outputs": [],
   "source": []
  },
  {
   "cell_type": "code",
   "execution_count": 286,
   "id": "14c1a243",
   "metadata": {},
   "outputs": [
    {
     "data": {
      "text/plain": [
       "1.0"
      ]
     },
     "execution_count": 286,
     "metadata": {},
     "output_type": "execute_result"
    }
   ],
   "source": [
    "adjusted_rand_score([0,0,0,1,1,1],[2,2,2,0,0,0])"
   ]
  },
  {
   "cell_type": "code",
   "execution_count": 272,
   "id": "414f9d8b",
   "metadata": {},
   "outputs": [
    {
     "data": {
      "text/plain": [
       "[[406, 407, 408, 409, 410, 411, 412, 413, 414],\n",
       " [600, 601, 602],\n",
       " [606, 607, 608],\n",
       " [612, 613, 614],\n",
       " [618, 619, 620]]"
      ]
     },
     "execution_count": 272,
     "metadata": {},
     "output_type": "execute_result"
    }
   ],
   "source": [
    "finalclusters.groups[1]"
   ]
  },
  {
   "cell_type": "code",
   "execution_count": null,
   "id": "d6d8164f",
   "metadata": {},
   "outputs": [],
   "source": []
  },
  {
   "cell_type": "code",
   "execution_count": null,
   "id": "178e35e4",
   "metadata": {},
   "outputs": [],
   "source": []
  },
  {
   "cell_type": "code",
   "execution_count": null,
   "id": "eb61e57f",
   "metadata": {},
   "outputs": [],
   "source": []
  },
  {
   "cell_type": "code",
   "execution_count": null,
   "id": "5a6c5304",
   "metadata": {},
   "outputs": [],
   "source": []
  },
  {
   "cell_type": "code",
   "execution_count": null,
   "id": "62212aa9",
   "metadata": {},
   "outputs": [],
   "source": []
  },
  {
   "cell_type": "code",
   "execution_count": 262,
   "id": "fcce4a87",
   "metadata": {},
   "outputs": [],
   "source": [
    "try:\n",
    "    os.mkdir('./classes')\n",
    "except:\n",
    "    shutil.rmtree('./classes')\n",
    "    os.mkdir('./classes')\n",
    "\n",
    "for i in match['labels'].unique():\n",
    "    os.makedirs('./classes/'+str(i))\n",
    "\n",
    "for index,row in match.iterrows():\n",
    "    shutil.copy(IMAGE_PATH+str(row['name'])+'.jpg', './classes/'+str(row['labels']))"
   ]
  },
  {
   "cell_type": "code",
   "execution_count": 175,
   "id": "06527c59",
   "metadata": {},
   "outputs": [
    {
     "name": "stdout",
     "output_type": "stream",
     "text": [
      "--- 669.6166045665741 seconds ---\n"
     ]
    }
   ],
   "source": [
    "print(\"--- %s seconds ---\" % (time.time() - start_time))"
   ]
  },
  {
   "cell_type": "code",
   "execution_count": null,
   "id": "fee4473e",
   "metadata": {},
   "outputs": [],
   "source": []
  },
  {
   "cell_type": "code",
   "execution_count": null,
   "id": "7d9d22a0",
   "metadata": {},
   "outputs": [],
   "source": []
  }
 ],
 "metadata": {
  "kernelspec": {
   "display_name": "visualsimilar",
   "language": "python",
   "name": "visualsimilar"
  },
  "language_info": {
   "codemirror_mode": {
    "name": "ipython",
    "version": 3
   },
   "file_extension": ".py",
   "mimetype": "text/x-python",
   "name": "python",
   "nbconvert_exporter": "python",
   "pygments_lexer": "ipython3",
   "version": "3.8.10"
  }
 },
 "nbformat": 4,
 "nbformat_minor": 5
}
